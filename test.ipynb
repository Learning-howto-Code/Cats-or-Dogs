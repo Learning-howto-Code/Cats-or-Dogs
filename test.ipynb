{
 "cells": [
  {
   "cell_type": "code",
   "execution_count": 2,
   "metadata": {},
   "outputs": [
    {
     "name": "stdout",
     "output_type": "stream",
     "text": [
      "Number of training images: 22494\n",
      "Number of validation images: 2499\n"
     ]
    }
   ],
   "source": [
    "import os\n",
    "\n",
    "train_dir = \"/Users/jakehopkins/Downloads/Cats or Dogs/train\"\n",
    "val_dir = \"/Users/jakehopkins/Downloads/Cats or Dogs/validation\"\n",
    "\n",
    "def count_images(directory):\n",
    "    count = 0\n",
    "    for root, dirs, files in os.walk(directory):\n",
    "        count += len([file for file in files if file.lower().endswith(('jpg', 'jpeg', 'png', 'bmp', 'gif'))])\n",
    "    return count\n",
    "\n",
    "train_count = count_images(train_dir)\n",
    "val_count = count_images(val_dir)\n",
    "print(f\"Number of training images: {train_count}\")\n",
    "print(f\"Number of validation images: {val_count}\")\n"
   ]
  }
 ],
 "metadata": {
  "kernelspec": {
   "display_name": "Python 3",
   "language": "python",
   "name": "python3"
  },
  "language_info": {
   "codemirror_mode": {
    "name": "ipython",
    "version": 3
   },
   "file_extension": ".py",
   "mimetype": "text/x-python",
   "name": "python",
   "nbconvert_exporter": "python",
   "pygments_lexer": "ipython3",
   "version": "3.12.1"
  },
  "orig_nbformat": 4
 },
 "nbformat": 4,
 "nbformat_minor": 2
}
